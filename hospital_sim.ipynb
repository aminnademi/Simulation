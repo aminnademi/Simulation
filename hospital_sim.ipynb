{
 "cells": [
  {
   "cell_type": "markdown",
   "id": "1e83813e",
   "metadata": {},
   "source": [
    "# Import the Required Libraries"
   ]
  },
  {
   "cell_type": "code",
   "execution_count": 1,
   "id": "e0cdf713",
   "metadata": {},
   "outputs": [],
   "source": [
    "import random\n",
    "import simpy\n",
    "from datetime import datetime, timedelta\n",
    "import pandas as pd\n",
    "import numpy as np\n",
    "import seaborn as sns\n",
    "import matplotlib.pyplot as plt\n",
    "from matplotlib.animation import FuncAnimation\n",
    "from IPython.display import HTML\n",
    "from faker import Faker"
   ]
  },
  {
   "cell_type": "code",
   "execution_count": 2,
   "id": "d6a47fdd",
   "metadata": {},
   "outputs": [],
   "source": [
    "# Initialize Faker for realistic names\n",
    "fake = Faker()"
   ]
  },
  {
   "cell_type": "markdown",
   "id": "32d62e9d",
   "metadata": {},
   "source": [
    "# Configuration"
   ]
  },
  {
   "cell_type": "code",
   "execution_count": null,
   "id": "1d14e52c",
   "metadata": {},
   "outputs": [],
   "source": [
    "CONFIG = {\n",
    "    'simulation': {\n",
    "        'beds_capacity': 10,\n",
    "        'max_queue': 5,\n",
    "        'sim_duration': 30 * 24,  # 720 hours (30 days)\n",
    "        'arrival_interval': (1, 3),\n",
    "    }, \n",
    "    # various diseases, age groups & their specifications\n",
    "    'diseases': { \n",
    "        'Broken Arm': {'duration': (12, 24), 'base_severity': 2, 'subtypes': {\n",
    "            'Hairline Fracture': 1, 'Simple Fracture': 2, 'Compound Fracture': 4}},\n",
    "        'Concussion': {'duration': (18, 24), 'base_severity': 4, 'subtypes': {\n",
    "            'Mild': 3, 'Moderate': 4, 'Severe': 5}},\n",
    "        'Simple Fracture': {'duration': (12, 18), 'base_severity': 3, 'subtypes': {\n",
    "            'Non-displaced': 2, 'Displaced': 3, 'Comminuted': 4}},\n",
    "        'Appendicitis': {'duration': (12, 24), 'base_severity': 5, 'subtypes': {\n",
    "            'Early Stage': 4, 'Acute': 5, 'Perforated': 6}},\n",
    "        'Pneumonia': {'duration': (18, 24), 'base_severity': 4, 'subtypes': {\n",
    "            'Mild': 3, 'Moderate': 4, 'Severe': 5}}\n",
    "    },\n",
    "    'age_groups': {\n",
    "        '0-18': {'probability': 0.15, 'priority': 3, 'factors': ['pediatric']},\n",
    "        '19-35': {'probability': 0.25, 'priority': 2, 'factors': ['young_adult']},\n",
    "        '36-55': {'probability': 0.35, 'priority': 1, 'factors': ['adult']},\n",
    "        '56-75': {'probability': 0.15, 'priority': 4, 'factors': ['elderly', 'comorbidities']},\n",
    "        '76+': {'probability': 0.10, 'priority': 5, 'factors': ['geriatric', 'high_risk']}\n",
    "    }\n",
    "}"
   ]
  }
 ],
 "metadata": {
  "kernelspec": {
   "display_name": "Python 3",
   "language": "python",
   "name": "python3"
  },
  "language_info": {
   "codemirror_mode": {
    "name": "ipython",
    "version": 3
   },
   "file_extension": ".py",
   "mimetype": "text/x-python",
   "name": "python",
   "nbconvert_exporter": "python",
   "pygments_lexer": "ipython3",
   "version": "3.12.6"
  }
 },
 "nbformat": 4,
 "nbformat_minor": 5
}
