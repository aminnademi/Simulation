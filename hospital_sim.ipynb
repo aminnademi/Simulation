{
 "cells": [
  {
   "cell_type": "markdown",
   "id": "1e83813e",
   "metadata": {},
   "source": [
    "# Import the Required Libraries"
   ]
  },
  {
   "cell_type": "code",
   "execution_count": 1,
   "id": "e0cdf713",
   "metadata": {},
   "outputs": [],
   "source": [
    "import random\n",
    "import simpy\n",
    "from datetime import datetime, timedelta\n",
    "import pandas as pd\n",
    "import numpy as np\n",
    "import seaborn as sns\n",
    "import matplotlib.pyplot as plt\n",
    "from matplotlib.animation import FuncAnimation\n",
    "from IPython.display import HTML\n",
    "from faker import Faker"
   ]
  },
  {
   "cell_type": "code",
   "execution_count": 2,
   "id": "d6a47fdd",
   "metadata": {},
   "outputs": [],
   "source": [
    "# Initialize Faker for realistic names\n",
    "fake = Faker()"
   ]
  },
  {
   "cell_type": "markdown",
   "id": "32d62e9d",
   "metadata": {},
   "source": [
    "# Configuration"
   ]
  },
  {
   "cell_type": "code",
   "execution_count": 3,
   "id": "1d14e52c",
   "metadata": {},
   "outputs": [],
   "source": [
    "CONFIG = {\n",
    "    'simulation': {\n",
    "        'beds_capacity': 10,\n",
    "        'max_queue': 5,\n",
    "        'sim_duration': 30 * 24,  # 720 hours (30 days)\n",
    "        'arrival_interval': (1, 3)\n",
    "    }, \n",
    "}"
   ]
  }
 ],
 "metadata": {
  "kernelspec": {
   "display_name": "Python 3",
   "language": "python",
   "name": "python3"
  },
  "language_info": {
   "codemirror_mode": {
    "name": "ipython",
    "version": 3
   },
   "file_extension": ".py",
   "mimetype": "text/x-python",
   "name": "python",
   "nbconvert_exporter": "python",
   "pygments_lexer": "ipython3",
   "version": "3.12.6"
  }
 },
 "nbformat": 4,
 "nbformat_minor": 5
}
